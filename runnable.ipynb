{
 "cells": [
  {
   "cell_type": "code",
   "execution_count": 1,
   "id": "cd312fad",
   "metadata": {},
   "outputs": [],
   "source": [
    "import random\n",
    "class FakeLLM:\n",
    "    def __init__(self):\n",
    "        print(\"LLM created\")\n",
    "\n",
    "    def predict(self, prompt):\n",
    "        response_list = [\n",
    "            'Hello, World',\n",
    "            \"AI stands for Artificial Intelligence\",\n",
    "            'ML stands for Machine Learning'\n",
    "        ]\n",
    "\n",
    "        return {'response': random.choice(response_list)}"
   ]
  },
  {
   "cell_type": "code",
   "execution_count": 2,
   "id": "416ad04f",
   "metadata": {},
   "outputs": [
    {
     "name": "stdout",
     "output_type": "stream",
     "text": [
      "LLM created\n"
     ]
    }
   ],
   "source": [
    "llm = FakeLLM()"
   ]
  },
  {
   "cell_type": "code",
   "execution_count": 3,
   "id": "f8ddf394",
   "metadata": {},
   "outputs": [
    {
     "data": {
      "text/plain": [
       "{'response': 'Hello, World'}"
      ]
     },
     "execution_count": 3,
     "metadata": {},
     "output_type": "execute_result"
    }
   ],
   "source": [
    "llm.predict('What is my first python code?')"
   ]
  },
  {
   "cell_type": "code",
   "execution_count": 4,
   "id": "e550a453",
   "metadata": {},
   "outputs": [],
   "source": [
    "class FakePromptTemplate:\n",
    "    def __init__(self, template, input_variables):\n",
    "        self.template = template\n",
    "        self.input_variables = input_variables\n",
    "\n",
    "    def format(self, input_dict):\n",
    "        return self.template.format(**input_dict)"
   ]
  },
  {
   "cell_type": "code",
   "execution_count": 7,
   "id": "e9cc7a18",
   "metadata": {},
   "outputs": [],
   "source": [
    "template = FakePromptTemplate(\n",
    "    template= \"Write a {number} words poem on {topic}\",\n",
    "    input_variables= ['number', 'topic']\n",
    "\n",
    ")"
   ]
  },
  {
   "cell_type": "code",
   "execution_count": 9,
   "id": "60600463",
   "metadata": {},
   "outputs": [],
   "source": [
    "prompt = template.format({'number': 10, 'topic': 'nature'})"
   ]
  },
  {
   "cell_type": "code",
   "execution_count": 10,
   "id": "918af7ff",
   "metadata": {},
   "outputs": [
    {
     "data": {
      "text/plain": [
       "{'response': 'ML stands for Machine Learning'}"
      ]
     },
     "execution_count": 10,
     "metadata": {},
     "output_type": "execute_result"
    }
   ],
   "source": [
    "llm.predict(prompt)"
   ]
  },
  {
   "cell_type": "code",
   "execution_count": 11,
   "id": "265ada86",
   "metadata": {},
   "outputs": [],
   "source": [
    "class FakeLLMChain:\n",
    "\n",
    "    def __init__(self, llm, prompt):\n",
    "        self.llm = llm\n",
    "        self.prompt = prompt\n",
    "\n",
    "    def run(self, input_dict):\n",
    "        final_prompt = self.prompt.format(input_dict)\n",
    "        result = self.llm.predict(final_prompt)\n",
    "\n",
    "        return result['response']"
   ]
  },
  {
   "cell_type": "code",
   "execution_count": 12,
   "id": "d02b67ea",
   "metadata": {},
   "outputs": [],
   "source": [
    "chain= FakeLLMChain(llm, template)"
   ]
  },
  {
   "cell_type": "code",
   "execution_count": 19,
   "id": "e2bf3c97",
   "metadata": {},
   "outputs": [
    {
     "data": {
      "text/plain": [
       "'AI stands for Artificial Intelligence'"
      ]
     },
     "execution_count": 19,
     "metadata": {},
     "output_type": "execute_result"
    }
   ],
   "source": [
    "chain.run({'number': 100, 'topic':\"AI\"})"
   ]
  },
  {
   "cell_type": "code",
   "execution_count": null,
   "id": "57b916ca",
   "metadata": {},
   "outputs": [],
   "source": []
  }
 ],
 "metadata": {
  "kernelspec": {
   "display_name": "venv",
   "language": "python",
   "name": "python3"
  },
  "language_info": {
   "codemirror_mode": {
    "name": "ipython",
    "version": 3
   },
   "file_extension": ".py",
   "mimetype": "text/x-python",
   "name": "python",
   "nbconvert_exporter": "python",
   "pygments_lexer": "ipython3",
   "version": "3.11.14"
  }
 },
 "nbformat": 4,
 "nbformat_minor": 5
}
